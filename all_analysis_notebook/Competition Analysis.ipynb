{
 "cells": [
  {
   "cell_type": "markdown",
   "metadata": {
    "application/vnd.databricks.v1+cell": {
     "cellMetadata": {},
     "inputWidgets": {},
     "nuid": "f3875447-546e-46fb-b076-68392887501a",
     "showTitle": false,
     "title": ""
    }
   },
   "source": [
    "\n",
    "# Competition Analysis:\n",
    "* Who are the current market leaders?\n",
    "* What are the primary reasons consumers prefer those brands over ours?"
   ]
  },
  {
   "cell_type": "markdown",
   "metadata": {
    "application/vnd.databricks.v1+cell": {
     "cellMetadata": {},
     "inputWidgets": {},
     "nuid": "ccbfe23e-b92b-4556-986c-7f699871364a",
     "showTitle": false,
     "title": ""
    }
   },
   "source": [
    "\n",
    "[Note Book](https://databricks-prod-cloudfront.cloud.databricks.com/public/4027ec902e239c93eaaa8714f173bcfc/8955579483629843/4152835944386609/4347609793390266/latest.html)\n"
   ]
  },
  {
   "cell_type": "code",
   "execution_count": 0,
   "metadata": {
    "application/vnd.databricks.v1+cell": {
     "cellMetadata": {
      "byteLimit": 2048000,
      "rowLimit": 10000
     },
     "inputWidgets": {},
     "nuid": "293523b8-22a9-4b39-9384-4ef891c819bf",
     "showTitle": false,
     "title": ""
    },
    "jupyter": {
     "outputs_hidden": true
    }
   },
   "outputs": [
    {
     "output_type": "display_data",
     "data": {
      "text/html": [
       "<style scoped>\n",
       "  .table-result-container {\n",
       "    max-height: 300px;\n",
       "    overflow: auto;\n",
       "  }\n",
       "  table, th, td {\n",
       "    border: 1px solid black;\n",
       "    border-collapse: collapse;\n",
       "  }\n",
       "  th, td {\n",
       "    padding: 5px;\n",
       "  }\n",
       "  th {\n",
       "    text-align: left;\n",
       "  }\n",
       "</style><div class='table-result-container'><table class='table-result'><thead style='background-color: white'><tr><th>path</th><th>name</th><th>size</th><th>modificationTime</th></tr></thead><tbody><tr><td>dbfs:/dim_cities/_SUCCESS</td><td>_SUCCESS</td><td>0</td><td>1696397739000</td></tr><tr><td>dbfs:/dim_cities/_committed_2855899102717714836</td><td>_committed_2855899102717714836</td><td>122</td><td>1696397739000</td></tr><tr><td>dbfs:/dim_cities/_started_2855899102717714836</td><td>_started_2855899102717714836</td><td>0</td><td>1696397733000</td></tr><tr><td>dbfs:/dim_cities/part-00000-tid-2855899102717714836-fda4e328-1a8c-4597-8561-29315630dd70-3-1-c000.snappy.parquet</td><td>part-00000-tid-2855899102717714836-fda4e328-1a8c-4597-8561-29315630dd70-3-1-c000.snappy.parquet</td><td>1256</td><td>1696397738000</td></tr></tbody></table></div>"
      ]
     },
     "metadata": {
      "application/vnd.databricks.v1+output": {
       "addedWidgets": {},
       "aggData": [],
       "aggError": "",
       "aggOverflow": false,
       "aggSchema": [],
       "aggSeriesLimitReached": false,
       "aggType": "",
       "arguments": {},
       "columnCustomDisplayInfos": {},
       "data": [
        [
         "dbfs:/dim_cities/_SUCCESS",
         "_SUCCESS",
         0,
         1696397739000
        ],
        [
         "dbfs:/dim_cities/_committed_2855899102717714836",
         "_committed_2855899102717714836",
         122,
         1696397739000
        ],
        [
         "dbfs:/dim_cities/_started_2855899102717714836",
         "_started_2855899102717714836",
         0,
         1696397733000
        ],
        [
         "dbfs:/dim_cities/part-00000-tid-2855899102717714836-fda4e328-1a8c-4597-8561-29315630dd70-3-1-c000.snappy.parquet",
         "part-00000-tid-2855899102717714836-fda4e328-1a8c-4597-8561-29315630dd70-3-1-c000.snappy.parquet",
         1256,
         1696397738000
        ]
       ],
       "datasetInfos": [],
       "dbfsResultPath": null,
       "isJsonSchema": true,
       "metadata": {
        "isDbfsCommandResult": false
       },
       "overflow": false,
       "plotOptions": {
        "customPlotOptions": {},
        "displayType": "table",
        "pivotAggregation": null,
        "pivotColumns": null,
        "xColumns": null,
        "yColumns": null
       },
       "removedWidgets": [],
       "schema": [
        {
         "metadata": "{}",
         "name": "path",
         "type": "\"string\""
        },
        {
         "metadata": "{}",
         "name": "name",
         "type": "\"string\""
        },
        {
         "metadata": "{}",
         "name": "size",
         "type": "\"long\""
        },
        {
         "metadata": "{}",
         "name": "modificationTime",
         "type": "\"long\""
        }
       ],
       "type": "table"
      }
     },
     "output_type": "display_data"
    },
    {
     "output_type": "stream",
     "name": "stdout",
     "output_type": "stream",
     "text": [
      "+-------+---------+------+\n|City_ID|     City|  Tier|\n+-------+---------+------+\n|  CT111|    Delhi|Tier 1|\n|  CT112|   Mumbai|Tier 1|\n|  CT113|Bangalore|Tier 1|\n|  CT114|  Chennai|Tier 1|\n|  CT115|  Kolkata|Tier 2|\n|  CT116|Hyderabad|Tier 1|\n|  CT117|Ahmedabad|Tier 2|\n|  CT118|     Pune|Tier 2|\n|  CT119|   Jaipur|Tier 2|\n|  CT120|  Lucknow|Tier 2|\n+-------+---------+------+\n\n"
     ]
    },
    {
     "output_type": "display_data",
     "data": {
      "text/html": [
       "<style scoped>\n",
       "  .table-result-container {\n",
       "    max-height: 300px;\n",
       "    overflow: auto;\n",
       "  }\n",
       "  table, th, td {\n",
       "    border: 1px solid black;\n",
       "    border-collapse: collapse;\n",
       "  }\n",
       "  th, td {\n",
       "    padding: 5px;\n",
       "  }\n",
       "  th {\n",
       "    text-align: left;\n",
       "  }\n",
       "</style><div class='table-result-container'><table class='table-result'><thead style='background-color: white'><tr><th>path</th><th>name</th><th>size</th><th>modificationTime</th></tr></thead><tbody><tr><td>dbfs:/dim_repondents/_SUCCESS</td><td>_SUCCESS</td><td>0</td><td>1696397800000</td></tr><tr><td>dbfs:/dim_repondents/_committed_8077451662853979464</td><td>_committed_8077451662853979464</td><td>122</td><td>1696397800000</td></tr><tr><td>dbfs:/dim_repondents/_started_8077451662853979464</td><td>_started_8077451662853979464</td><td>0</td><td>1696397795000</td></tr><tr><td>dbfs:/dim_repondents/part-00000-tid-8077451662853979464-15357e0e-322f-4ea4-95e1-3203edfeb9e5-7-1-c000.snappy.parquet</td><td>part-00000-tid-8077451662853979464-15357e0e-322f-4ea4-95e1-3203edfeb9e5-7-1-c000.snappy.parquet</td><td>134307</td><td>1696397799000</td></tr></tbody></table></div>"
      ]
     },
     "metadata": {
      "application/vnd.databricks.v1+output": {
       "addedWidgets": {},
       "aggData": [],
       "aggError": "",
       "aggOverflow": false,
       "aggSchema": [],
       "aggSeriesLimitReached": false,
       "aggType": "",
       "arguments": {},
       "columnCustomDisplayInfos": {},
       "data": [
        [
         "dbfs:/dim_repondents/_SUCCESS",
         "_SUCCESS",
         0,
         1696397800000
        ],
        [
         "dbfs:/dim_repondents/_committed_8077451662853979464",
         "_committed_8077451662853979464",
         122,
         1696397800000
        ],
        [
         "dbfs:/dim_repondents/_started_8077451662853979464",
         "_started_8077451662853979464",
         0,
         1696397795000
        ],
        [
         "dbfs:/dim_repondents/part-00000-tid-8077451662853979464-15357e0e-322f-4ea4-95e1-3203edfeb9e5-7-1-c000.snappy.parquet",
         "part-00000-tid-8077451662853979464-15357e0e-322f-4ea4-95e1-3203edfeb9e5-7-1-c000.snappy.parquet",
         134307,
         1696397799000
        ]
       ],
       "datasetInfos": [],
       "dbfsResultPath": null,
       "isJsonSchema": true,
       "metadata": {
        "isDbfsCommandResult": false
       },
       "overflow": false,
       "plotOptions": {
        "customPlotOptions": {},
        "displayType": "table",
        "pivotAggregation": null,
        "pivotColumns": null,
        "xColumns": null,
        "yColumns": null
       },
       "removedWidgets": [],
       "schema": [
        {
         "metadata": "{}",
         "name": "path",
         "type": "\"string\""
        },
        {
         "metadata": "{}",
         "name": "name",
         "type": "\"string\""
        },
        {
         "metadata": "{}",
         "name": "size",
         "type": "\"long\""
        },
        {
         "metadata": "{}",
         "name": "modificationTime",
         "type": "\"long\""
        }
       ],
       "type": "table"
      }
     },
     "output_type": "display_data"
    },
    {
     "output_type": "stream",
     "name": "stdout",
     "output_type": "stream",
     "text": [
      "+-------------+---------------+-----+------+-------+\n|Respondent_ID|           Name|  Age|Gender|City_ID|\n+-------------+---------------+-----+------+-------+\n|       120031| Aniruddh Issac|15-18|Female|  CT117|\n|       120032|    Trisha Rout|19-30|  Male|  CT118|\n|       120033|   Yuvraj  Virk|15-18|  Male|  CT116|\n|       120034|   Pranay Chand|31-45|Female|  CT113|\n|       120035| Mohanlal Joshi|19-30|Female|  CT120|\n|       120036|  Zeeshan Ratta|19-30|Female|  CT118|\n|       120037|     Oorja Anne|19-30|  Male|  CT112|\n|       120038|    Rhea Khanna|19-30|  Male|  CT116|\n|       120039|     Zara Joshi|46-65|  Male|  CT116|\n|       120040|    Sana Dhawan|19-30|Female|  CT116|\n|       120041|  Misha Warrior|19-30|Female|  CT113|\n|       120042|  Kiara Chander|19-30|Female|  CT112|\n|       120043|   Kimaya Borde|19-30|  Male|  CT113|\n|       120044|Tushar Malhotra|19-30|  Male|  CT112|\n|       120045|      Azad Gera|  65+|  Male|  CT113|\n|       120046|     Aarav Bath|19-30|  Male|  CT114|\n|       120047|      Ojas Char|19-30|  Male|  CT112|\n|       120048|    Advik Baria|19-30|  Male|  CT116|\n|       120049|    Dhruv Loyal|19-30|Female|  CT113|\n|       120050|Dharmajan Doshi|31-45|Female|  CT114|\n+-------------+---------------+-----+------+-------+\nonly showing top 20 rows\n\n"
     ]
    },
    {
     "output_type": "display_data",
     "data": {
      "text/html": [
       "<style scoped>\n",
       "  .table-result-container {\n",
       "    max-height: 300px;\n",
       "    overflow: auto;\n",
       "  }\n",
       "  table, th, td {\n",
       "    border: 1px solid black;\n",
       "    border-collapse: collapse;\n",
       "  }\n",
       "  th, td {\n",
       "    padding: 5px;\n",
       "  }\n",
       "  th {\n",
       "    text-align: left;\n",
       "  }\n",
       "</style><div class='table-result-container'><table class='table-result'><thead style='background-color: white'><tr><th>path</th><th>name</th><th>size</th><th>modificationTime</th></tr></thead><tbody><tr><td>dbfs:/fact_survey_responses/_SUCCESS</td><td>_SUCCESS</td><td>0</td><td>1696397854000</td></tr><tr><td>dbfs:/fact_survey_responses/_committed_6805043833085141837</td><td>_committed_6805043833085141837</td><td>123</td><td>1696397854000</td></tr><tr><td>dbfs:/fact_survey_responses/_started_6805043833085141837</td><td>_started_6805043833085141837</td><td>0</td><td>1696397847000</td></tr><tr><td>dbfs:/fact_survey_responses/part-00000-tid-6805043833085141837-28a7933d-de84-4cb9-b91e-2868354d2493-11-1-c000.snappy.parquet</td><td>part-00000-tid-6805043833085141837-28a7933d-de84-4cb9-b91e-2868354d2493-11-1-c000.snappy.parquet</td><td>152330</td><td>1696397853000</td></tr></tbody></table></div>"
      ]
     },
     "metadata": {
      "application/vnd.databricks.v1+output": {
       "addedWidgets": {},
       "aggData": [],
       "aggError": "",
       "aggOverflow": false,
       "aggSchema": [],
       "aggSeriesLimitReached": false,
       "aggType": "",
       "arguments": {},
       "columnCustomDisplayInfos": {},
       "data": [
        [
         "dbfs:/fact_survey_responses/_SUCCESS",
         "_SUCCESS",
         0,
         1696397854000
        ],
        [
         "dbfs:/fact_survey_responses/_committed_6805043833085141837",
         "_committed_6805043833085141837",
         123,
         1696397854000
        ],
        [
         "dbfs:/fact_survey_responses/_started_6805043833085141837",
         "_started_6805043833085141837",
         0,
         1696397847000
        ],
        [
         "dbfs:/fact_survey_responses/part-00000-tid-6805043833085141837-28a7933d-de84-4cb9-b91e-2868354d2493-11-1-c000.snappy.parquet",
         "part-00000-tid-6805043833085141837-28a7933d-de84-4cb9-b91e-2868354d2493-11-1-c000.snappy.parquet",
         152330,
         1696397853000
        ]
       ],
       "datasetInfos": [],
       "dbfsResultPath": null,
       "isJsonSchema": true,
       "metadata": {
        "isDbfsCommandResult": false
       },
       "overflow": false,
       "plotOptions": {
        "customPlotOptions": {},
        "displayType": "table",
        "pivotAggregation": null,
        "pivotColumns": null,
        "xColumns": null,
        "yColumns": null
       },
       "removedWidgets": [],
       "schema": [
        {
         "metadata": "{}",
         "name": "path",
         "type": "\"string\""
        },
        {
         "metadata": "{}",
         "name": "name",
         "type": "\"string\""
        },
        {
         "metadata": "{}",
         "name": "size",
         "type": "\"long\""
        },
        {
         "metadata": "{}",
         "name": "modificationTime",
         "type": "\"long\""
        }
       ],
       "type": "table"
      }
     },
     "output_type": "display_data"
    }
   ],
   "source": [
    "%run /Users/mailboxakash2@gmail.com/Marketing_Data_Processing"
   ]
  },
  {
   "cell_type": "markdown",
   "metadata": {
    "application/vnd.databricks.v1+cell": {
     "cellMetadata": {},
     "inputWidgets": {},
     "nuid": "e2314376-b13c-4ef3-8e12-baa39e05d2f3",
     "showTitle": false,
     "title": ""
    }
   },
   "source": [
    "\n",
    "# Q1.\n",
    "\n",
    "#### Who are the current market leaders?"
   ]
  },
  {
   "cell_type": "code",
   "execution_count": 0,
   "metadata": {
    "application/vnd.databricks.v1+cell": {
     "cellMetadata": {
      "byteLimit": 2048000,
      "rowLimit": 10000
     },
     "inputWidgets": {},
     "nuid": "44f3401d-2e61-47d5-bf80-77e811f50653",
     "showTitle": false,
     "title": ""
    }
   },
   "outputs": [
    {
     "output_type": "stream",
     "name": "stdout",
     "output_type": "stream",
     "text": [
      "Out[30]: ['Response_ID',\n 'Respondent_ID',\n 'Consume_frequency',\n 'Consume_time',\n 'Consume_reason',\n 'Heard_before',\n 'Brand_perception',\n 'General_perception',\n 'Tried_before',\n 'Taste_experience',\n 'Reasons_preventing_trying',\n 'Current_brands',\n 'Reasons_for_choosing_brands',\n 'Improvements_desired',\n 'Ingredients_expected',\n 'Health_concerns',\n 'Interest_in_natural_or_organic',\n 'Marketing_channels',\n 'Packaging_preference',\n 'Limited_edition_packaging',\n 'Price_range',\n 'Purchase_location',\n 'Typical_consumption_situations']"
     ]
    },
    {
     "output_type": "stream",
     "name": "stdout",
     "output_type": "stream",
     "text": [
      "Out[11]: 10"
     ]
    },
    {
     "output_type": "stream",
     "name": "stdout",
     "output_type": "stream",
     "text": [
      "Out[12]: ['City_ID', 'City', 'Tier']"
     ]
    },
    {
     "output_type": "stream",
     "name": "stdout",
     "output_type": "stream",
     "text": [
      "root\n |-- City_ID: string (nullable = true)\n |-- City: string (nullable = true)\n |-- Tier: string (nullable = true)\n\n"
     ]
    },
    {
     "output_type": "stream",
     "name": "stdout",
     "output_type": "stream",
     "text": [
      "+-------+---------+------+\n|City_ID|     City|  Tier|\n+-------+---------+------+\n|  CT111|    Delhi|Tier 1|\n|  CT112|   Mumbai|Tier 1|\n|  CT113|Bangalore|Tier 1|\n|  CT114|  Chennai|Tier 1|\n|  CT115|  Kolkata|Tier 2|\n|  CT116|Hyderabad|Tier 1|\n|  CT117|Ahmedabad|Tier 2|\n|  CT118|     Pune|Tier 2|\n|  CT119|   Jaipur|Tier 2|\n|  CT120|  Lucknow|Tier 2|\n+-------+---------+------+\n\n"
     ]
    },
    {
     "output_type": "stream",
     "name": "stdout",
     "output_type": "stream",
     "text": [
      "+-------------+----+---+------+-------+\n|Respondent_ID|Name|Age|Gender|City_ID|\n+-------------+----+---+------+-------+\n|            0|   0|  0|     0|      0|\n+-------------+----+---+------+-------+\n\n"
     ]
    },
    {
     "output_type": "stream",
     "name": "stdout",
     "output_type": "stream",
     "text": [
      "Out[16]: 10000"
     ]
    },
    {
     "output_type": "stream",
     "name": "stdout",
     "output_type": "stream",
     "text": [
      "Out[17]: ['Respondent_ID', 'Name', 'Age', 'Gender', 'City_ID']"
     ]
    },
    {
     "output_type": "stream",
     "name": "stdout",
     "output_type": "stream",
     "text": [
      "root\n |-- Respondent_ID: integer (nullable = true)\n |-- Name: string (nullable = true)\n |-- Age: string (nullable = true)\n |-- Gender: string (nullable = true)\n |-- City_ID: string (nullable = true)\n\n"
     ]
    },
    {
     "output_type": "stream",
     "name": "stdout",
     "output_type": "stream",
     "text": [
      "+-------------+---------------+-----+------+-------+\n|Respondent_ID|           Name|  Age|Gender|City_ID|\n+-------------+---------------+-----+------+-------+\n|       120031| Aniruddh Issac|15-18|Female|  CT117|\n|       120032|    Trisha Rout|19-30|  Male|  CT118|\n|       120033|   Yuvraj  Virk|15-18|  Male|  CT116|\n|       120034|   Pranay Chand|31-45|Female|  CT113|\n|       120035| Mohanlal Joshi|19-30|Female|  CT120|\n|       120036|  Zeeshan Ratta|19-30|Female|  CT118|\n|       120037|     Oorja Anne|19-30|  Male|  CT112|\n|       120038|    Rhea Khanna|19-30|  Male|  CT116|\n|       120039|     Zara Joshi|46-65|  Male|  CT116|\n|       120040|    Sana Dhawan|19-30|Female|  CT116|\n|       120041|  Misha Warrior|19-30|Female|  CT113|\n|       120042|  Kiara Chander|19-30|Female|  CT112|\n|       120043|   Kimaya Borde|19-30|  Male|  CT113|\n|       120044|Tushar Malhotra|19-30|  Male|  CT112|\n|       120045|      Azad Gera|  65+|  Male|  CT113|\n|       120046|     Aarav Bath|19-30|  Male|  CT114|\n|       120047|      Ojas Char|19-30|  Male|  CT112|\n|       120048|    Advik Baria|19-30|  Male|  CT116|\n|       120049|    Dhruv Loyal|19-30|Female|  CT113|\n|       120050|Dharmajan Doshi|31-45|Female|  CT114|\n+-------------+---------------+-----+------+-------+\nonly showing top 20 rows\n\n"
     ]
    }
   ],
   "source": [
    "df3.columns"
   ]
  },
  {
   "cell_type": "code",
   "execution_count": 0,
   "metadata": {
    "application/vnd.databricks.v1+cell": {
     "cellMetadata": {
      "byteLimit": 2048000,
      "rowLimit": 10000
     },
     "inputWidgets": {},
     "nuid": "f0d39d88-d6b0-4cc3-ab5a-1bc0e459a8f5",
     "showTitle": false,
     "title": ""
    }
   },
   "outputs": [
    {
     "output_type": "display_data",
     "data": {
      "text/html": [
       "<style scoped>\n",
       "  .table-result-container {\n",
       "    max-height: 300px;\n",
       "    overflow: auto;\n",
       "  }\n",
       "  table, th, td {\n",
       "    border: 1px solid black;\n",
       "    border-collapse: collapse;\n",
       "  }\n",
       "  th, td {\n",
       "    padding: 5px;\n",
       "  }\n",
       "  th {\n",
       "    text-align: left;\n",
       "  }\n",
       "</style><div class='table-result-container'><table class='table-result'><thead style='background-color: white'><tr><th>Response_ID</th><th>Respondent_ID</th><th>Consume_frequency</th><th>Consume_time</th><th>Consume_reason</th><th>Heard_before</th><th>Brand_perception</th><th>General_perception</th><th>Tried_before</th><th>Taste_experience</th><th>Reasons_preventing_trying</th><th>Current_brands</th><th>Reasons_for_choosing_brands</th><th>Improvements_desired</th><th>Ingredients_expected</th><th>Health_concerns</th><th>Interest_in_natural_or_organic</th><th>Marketing_channels</th><th>Packaging_preference</th><th>Limited_edition_packaging</th><th>Price_range</th><th>Purchase_location</th><th>Typical_consumption_situations</th></tr></thead><tbody><tr><td>0</td><td>0</td><td>0</td><td>0</td><td>0</td><td>0</td><td>0</td><td>0</td><td>0</td><td>0</td><td>0</td><td>0</td><td>0</td><td>0</td><td>0</td><td>0</td><td>0</td><td>0</td><td>0</td><td>0</td><td>0</td><td>0</td><td>0</td></tr></tbody></table></div>"
      ]
     },
     "metadata": {
      "application/vnd.databricks.v1+output": {
       "addedWidgets": {},
       "aggData": [],
       "aggError": "",
       "aggOverflow": false,
       "aggSchema": [],
       "aggSeriesLimitReached": false,
       "aggType": "",
       "arguments": {},
       "columnCustomDisplayInfos": {},
       "data": [
        [
         0,
         0,
         0,
         0,
         0,
         0,
         0,
         0,
         0,
         0,
         0,
         0,
         0,
         0,
         0,
         0,
         0,
         0,
         0,
         0,
         0,
         0,
         0
        ]
       ],
       "datasetInfos": [],
       "dbfsResultPath": null,
       "isJsonSchema": true,
       "metadata": {},
       "overflow": false,
       "plotOptions": {
        "customPlotOptions": {},
        "displayType": "table",
        "pivotAggregation": null,
        "pivotColumns": null,
        "xColumns": null,
        "yColumns": null
       },
       "removedWidgets": [],
       "schema": [
        {
         "metadata": "{}",
         "name": "Response_ID",
         "type": "\"long\""
        },
        {
         "metadata": "{}",
         "name": "Respondent_ID",
         "type": "\"long\""
        },
        {
         "metadata": "{}",
         "name": "Consume_frequency",
         "type": "\"long\""
        },
        {
         "metadata": "{}",
         "name": "Consume_time",
         "type": "\"long\""
        },
        {
         "metadata": "{}",
         "name": "Consume_reason",
         "type": "\"long\""
        },
        {
         "metadata": "{}",
         "name": "Heard_before",
         "type": "\"long\""
        },
        {
         "metadata": "{}",
         "name": "Brand_perception",
         "type": "\"long\""
        },
        {
         "metadata": "{}",
         "name": "General_perception",
         "type": "\"long\""
        },
        {
         "metadata": "{}",
         "name": "Tried_before",
         "type": "\"long\""
        },
        {
         "metadata": "{}",
         "name": "Taste_experience",
         "type": "\"long\""
        },
        {
         "metadata": "{}",
         "name": "Reasons_preventing_trying",
         "type": "\"long\""
        },
        {
         "metadata": "{}",
         "name": "Current_brands",
         "type": "\"long\""
        },
        {
         "metadata": "{}",
         "name": "Reasons_for_choosing_brands",
         "type": "\"long\""
        },
        {
         "metadata": "{}",
         "name": "Improvements_desired",
         "type": "\"long\""
        },
        {
         "metadata": "{}",
         "name": "Ingredients_expected",
         "type": "\"long\""
        },
        {
         "metadata": "{}",
         "name": "Health_concerns",
         "type": "\"long\""
        },
        {
         "metadata": "{}",
         "name": "Interest_in_natural_or_organic",
         "type": "\"long\""
        },
        {
         "metadata": "{}",
         "name": "Marketing_channels",
         "type": "\"long\""
        },
        {
         "metadata": "{}",
         "name": "Packaging_preference",
         "type": "\"long\""
        },
        {
         "metadata": "{}",
         "name": "Limited_edition_packaging",
         "type": "\"long\""
        },
        {
         "metadata": "{}",
         "name": "Price_range",
         "type": "\"long\""
        },
        {
         "metadata": "{}",
         "name": "Purchase_location",
         "type": "\"long\""
        },
        {
         "metadata": "{}",
         "name": "Typical_consumption_situations",
         "type": "\"long\""
        }
       ],
       "type": "table"
      }
     },
     "output_type": "display_data"
    },
    {
     "output_type": "stream",
     "name": "stdout",
     "output_type": "stream",
     "text": [
      "Out[21]: 10000"
     ]
    },
    {
     "output_type": "stream",
     "name": "stdout",
     "output_type": "stream",
     "text": [
      "Out[22]: ['Response_ID',\n 'Respondent_ID',\n 'Consume_frequency',\n 'Consume_time',\n 'Consume_reason',\n 'Heard_before',\n 'Brand_perception',\n 'General_perception',\n 'Tried_before',\n 'Taste_experience',\n 'Reasons_preventing_trying',\n 'Current_brands',\n 'Reasons_for_choosing_brands',\n 'Improvements_desired',\n 'Ingredients_expected',\n 'Health_concerns',\n 'Interest_in_natural_or_organic',\n 'Marketing_channels',\n 'Packaging_preference',\n 'Limited_edition_packaging',\n 'Price_range',\n 'Purchase_location',\n 'Typical_consumption_situations']"
     ]
    },
    {
     "output_type": "stream",
     "name": "stdout",
     "output_type": "stream",
     "text": [
      "root\n |-- Response_ID: integer (nullable = true)\n |-- Respondent_ID: integer (nullable = true)\n |-- Consume_frequency: string (nullable = true)\n |-- Consume_time: string (nullable = true)\n |-- Consume_reason: string (nullable = true)\n |-- Heard_before: string (nullable = true)\n |-- Brand_perception: string (nullable = true)\n |-- General_perception: string (nullable = true)\n |-- Tried_before: string (nullable = true)\n |-- Taste_experience: integer (nullable = true)\n |-- Reasons_preventing_trying: string (nullable = true)\n |-- Current_brands: string (nullable = true)\n |-- Reasons_for_choosing_brands: string (nullable = true)\n |-- Improvements_desired: string (nullable = true)\n |-- Ingredients_expected: string (nullable = true)\n |-- Health_concerns: string (nullable = true)\n |-- Interest_in_natural_or_organic: string (nullable = true)\n |-- Marketing_channels: string (nullable = true)\n |-- Packaging_preference: string (nullable = true)\n |-- Limited_edition_packaging: string (nullable = true)\n |-- Price_range: string (nullable = true)\n |-- Purchase_location: string (nullable = true)\n |-- Typical_consumption_situations: string (nullable = true)\n\n"
     ]
    },
    {
     "output_type": "stream",
     "name": "stdout",
     "output_type": "stream",
     "text": [
      "Out[24]: ['Consume_frequency',\n 'Consume_time',\n 'Consume_reason',\n 'Heard_before',\n 'Brand_perception',\n 'General_perception',\n 'Tried_before',\n 'Reasons_preventing_trying',\n 'Current_brands',\n 'Reasons_for_choosing_brands',\n 'Improvements_desired',\n 'Ingredients_expected',\n 'Health_concerns',\n 'Interest_in_natural_or_organic',\n 'Marketing_channels',\n 'Packaging_preference',\n 'Limited_edition_packaging',\n 'Price_range',\n 'Purchase_location',\n 'Typical_consumption_situations']"
     ]
    },
    {
     "output_type": "stream",
     "name": "stdout",
     "output_type": "stream",
     "text": [
      "+-----------------+--------------------+--------------------+------------+----------------+------------------+------------+-------------------------+--------------+---------------------------+--------------------+--------------------+---------------+------------------------------+------------------+--------------------+-------------------------+-----------+--------------------+------------------------------+\n|Consume_frequency|        Consume_time|      Consume_reason|Heard_before|Brand_perception|General_perception|Tried_before|Reasons_preventing_trying|Current_brands|Reasons_for_choosing_brands|Improvements_desired|Ingredients_expected|Health_concerns|Interest_in_natural_or_organic|Marketing_channels|Packaging_preference|Limited_edition_packaging|Price_range|   Purchase_location|Typical_consumption_situations|\n+-----------------+--------------------+--------------------+------------+----------------+------------------+------------+-------------------------+--------------+---------------------------+--------------------+--------------------+---------------+------------------------------+------------------+--------------------+-------------------------+-----------+--------------------+------------------------------+\n| 2-3 times a week|To stay awake dur...|Increased energy ...|         Yes|         Neutral|          Not sure|          No|     Unfamiliar with t...|     Blue Bull|               Availability|Reduced sugar con...|             Guarana|             No|                           Yes|    TV commercials|Compact and porta...|                      Yes|      50-99|        Supermarkets|          Studying/working ...|\n|2-3 times a month|  Throughout the day|To boost performance|          No|         Neutral|          Not sure|          No|     Not interested in...|         Bepsi|               Availability|More natural ingr...|            Caffeine|            Yes|                      Not Sure|       Print media|Compact and porta...|                       No|      50-99|        Supermarkets|               Sports/exercise|\n|           Rarely|     Before exercise|Increased energy ...|          No|         Neutral|          Not sure|          No|     Not available loc...|         Bepsi|               Availability|More natural ingr...|            Caffeine|             No|                           Yes|        Online ads|Innovative bottle...|                 Not Sure|    100-150|        Supermarkets|          Studying/working ...|\n| 2-3 times a week|To stay awake dur...|To boost performance|          No|        Positive|         Dangerous|         Yes|                    Other|         Bepsi|                      Other|               Other|            Caffeine|             No|                           Yes|        Online ads|Compact and porta...|                       No|  Above 150|        Supermarkets|               Sports/exercise|\n|            Daily|To stay awake dur...|Increased energy ...|         Yes|         Neutral|         Effective|         Yes|                    Other|         Sky 9|                      Other|More natural ingr...|            Caffeine|            Yes|                           Yes|        Online ads|Compact and porta...|                      Yes|    100-150|    Online retailers|          Studying/working ...|\n|           Rarely|For mental alertness|   To combat fatigue|         Yes|        Negative|          Not sure|          No|          Health concerns|     Cola-Coka|               Availability|Wider range of fl...|            Vitamins|            Yes|                           Yes|    TV commercials|               Other|                      Yes|  Above 150|Gyms and fitness ...|          Social outings/pa...|\n|2-3 times a month|To stay awake dur...|Increased energy ...|          No|        Positive|          Not sure|          No|          Health concerns|     Cola-Coka|           Brand reputation|               Other|             Guarana|            Yes|                            No|        Online ads|Innovative bottle...|                      Yes|    100-150|               Other|               Sports/exercise|\n|           Rarely|     Before exercise|   To combat fatigue|          No|         Neutral|           Healthy|         Yes|     Unfamiliar with t...|      Gangster|           Brand reputation|Reduced sugar con...|               Sugar|            Yes|                      Not Sure|        Online ads|Compact and porta...|                      Yes|      50-99|Gyms and fitness ...|          Social outings/pa...|\n|      Once a week|To stay awake dur...|To enhance sports...|          No|         Neutral|         Effective|         Yes|     Not available loc...|      Gangster|               Availability|Reduced sugar con...|               Sugar|             No|                           Yes|             Other|Innovative bottle...|                       No|    100-150|               Other|               Sports/exercise|\n|      Once a week|For mental alertness|   To combat fatigue|         Yes|         Neutral|           Healthy|          No|     Not interested in...|         Sky 9|              Effectiveness|               Other|            Caffeine|             No|                           Yes|             Other|               Other|                 Not Sure|      50-99|Gyms and fitness ...|          Social outings/pa...|\n| 2-3 times a week|     Before exercise|   To combat fatigue|          No|        Negative|           Healthy|         Yes|     Not interested in...|         CodeX|                      Other|Reduced sugar con...|             Guarana|            Yes|                           Yes|        Online ads|Compact and porta...|                      Yes|      50-99|        Supermarkets|               Sports/exercise|\n|           Rarely|To stay awake dur...|   To combat fatigue|         Yes|         Neutral|         Dangerous|          No|     Not available loc...|        Others|              Effectiveness|Reduced sugar con...|            Caffeine|            Yes|                           Yes|        Online ads|               Other|                      Yes|    100-150|    Online retailers|          Social outings/pa...|\n| 2-3 times a week|     Before exercise|To enhance sports...|          No|         Neutral|           Healthy|         Yes|     Not available loc...|      Gangster|       Taste/flavor pref...|More natural ingr...|            Caffeine|            Yes|                            No|        Online ads|Innovative bottle...|                       No|      50-99|Gyms and fitness ...|          Studying/working ...|\n| 2-3 times a week|For mental alertness|   To combat fatigue|          No|         Neutral|           Healthy|          No|          Health concerns|        Others|           Brand reputation|Reduced sugar con...|            Vitamins|            Yes|                           Yes|             Other|Innovative bottle...|                       No|      50-99|    Online retailers|               Sports/exercise|\n| 2-3 times a week|To stay awake dur...|Increased energy ...|          No|        Positive|           Healthy|         Yes|     Not interested in...|         Bepsi|               Availability|Healthier alterna...|               Sugar|            Yes|                           Yes|Outdoor billboards|Compact and porta...|                      Yes|  Above 150|        Supermarkets|          Social outings/pa...|\n|            Daily|     Before exercise|Increased energy ...|          No|         Neutral|         Effective|         Yes|     Not available loc...|         Bepsi|           Brand reputation|               Other|            Caffeine|            Yes|                           Yes|        Online ads|Compact and porta...|                      Yes|  Above 150|        Supermarkets|          Studying/working ...|\n|           Rarely|     Before exercise|To boost performance|         Yes|         Neutral|         Effective|          No|     Not interested in...|         CodeX|       Taste/flavor pref...|Wider range of fl...|               Sugar|             No|                           Yes|       Print media|Innovative bottle...|                 Not Sure|      50-99|        Supermarkets|          Studying/working ...|\n|      Once a week|To stay awake dur...|Increased energy ...|          No|        Negative|           Healthy|         Yes|          Health concerns|         Sky 9|                      Other|Reduced sugar con...|             Guarana|            Yes|                           Yes|        Online ads|Compact and porta...|                      Yes|    100-150|    Online retailers|          Social outings/pa...|\n|            Daily|To stay awake dur...|               Other|          No|         Neutral|         Effective|          No|     Not interested in...|         Bepsi|                      Other|More natural ingr...|            Caffeine|            Yes|                            No|        Online ads|Compact and porta...|                       No|      50-99|        Local stores|          Social outings/pa...|\n|            Daily|     Before exercise|   To combat fatigue|          No|         Neutral|         Effective|         Yes|                    Other|        Others|              Effectiveness|Wider range of fl...|            Caffeine|             No|                           Yes|        Online ads|Compact and porta...|                       No|      50-99|               Other|          Social outings/pa...|\n+-----------------+--------------------+--------------------+------------+----------------+------------------+------------+-------------------------+--------------+---------------------------+--------------------+--------------------+---------------+------------------------------+------------------+--------------------+-------------------------+-----------+--------------------+------------------------------+\nonly showing top 20 rows\n\n"
     ]
    },
    {
     "output_type": "stream",
     "name": "stdout",
     "output_type": "stream",
     "text": [
      "Out[26]: ['Response_ID', 'Respondent_ID', 'Taste_experience']"
     ]
    },
    {
     "output_type": "stream",
     "name": "stdout",
     "output_type": "stream",
     "text": [
      "+-----------+-------------+----------------+\n|Response_ID|Respondent_ID|Taste_experience|\n+-----------+-------------+----------------+\n|     103001|       120031|               5|\n|     103002|       120032|               5|\n|     103003|       120033|               2|\n|     103004|       120034|               5|\n|     103005|       120035|               5|\n|     103006|       120036|               5|\n|     103007|       120037|               4|\n|     103008|       120038|               4|\n|     103009|       120039|               3|\n|     103010|       120040|               4|\n|     103011|       120041|               5|\n|     103012|       120042|               2|\n|     103013|       120043|               4|\n|     103014|       120044|               5|\n|     103015|       120045|               5|\n|     103016|       120046|               3|\n|     103017|       120047|               4|\n|     103018|       120048|               1|\n|     103019|       120049|               4|\n|     103020|       120050|               2|\n+-----------+-------------+----------------+\nonly showing top 20 rows\n\n"
     ]
    },
    {
     "output_type": "stream",
     "name": "stdout",
     "output_type": "stream",
     "text": [
      "+-----------+-------------+-----------------+--------------------+--------------------+------------+----------------+------------------+------------+----------------+-------------------------+--------------+---------------------------+--------------------+--------------------+---------------+------------------------------+------------------+--------------------+-------------------------+-----------+--------------------+------------------------------+\n|Response_ID|Respondent_ID|Consume_frequency|        Consume_time|      Consume_reason|Heard_before|Brand_perception|General_perception|Tried_before|Taste_experience|Reasons_preventing_trying|Current_brands|Reasons_for_choosing_brands|Improvements_desired|Ingredients_expected|Health_concerns|Interest_in_natural_or_organic|Marketing_channels|Packaging_preference|Limited_edition_packaging|Price_range|   Purchase_location|Typical_consumption_situations|\n+-----------+-------------+-----------------+--------------------+--------------------+------------+----------------+------------------+------------+----------------+-------------------------+--------------+---------------------------+--------------------+--------------------+---------------+------------------------------+------------------+--------------------+-------------------------+-----------+--------------------+------------------------------+\n|     103001|       120031| 2-3 times a week|To stay awake dur...|Increased energy ...|         Yes|         Neutral|          Not sure|          No|               5|     Unfamiliar with t...|     Blue Bull|               Availability|Reduced sugar con...|             Guarana|             No|                           Yes|    TV commercials|Compact and porta...|                      Yes|      50-99|        Supermarkets|          Studying/working ...|\n|     103002|       120032|2-3 times a month|  Throughout the day|To boost performance|          No|         Neutral|          Not sure|          No|               5|     Not interested in...|         Bepsi|               Availability|More natural ingr...|            Caffeine|            Yes|                      Not Sure|       Print media|Compact and porta...|                       No|      50-99|        Supermarkets|               Sports/exercise|\n|     103003|       120033|           Rarely|     Before exercise|Increased energy ...|          No|         Neutral|          Not sure|          No|               2|     Not available loc...|         Bepsi|               Availability|More natural ingr...|            Caffeine|             No|                           Yes|        Online ads|Innovative bottle...|                 Not Sure|    100-150|        Supermarkets|          Studying/working ...|\n|     103004|       120034| 2-3 times a week|To stay awake dur...|To boost performance|          No|        Positive|         Dangerous|         Yes|               5|                    Other|         Bepsi|                      Other|               Other|            Caffeine|             No|                           Yes|        Online ads|Compact and porta...|                       No|  Above 150|        Supermarkets|               Sports/exercise|\n|     103005|       120035|            Daily|To stay awake dur...|Increased energy ...|         Yes|         Neutral|         Effective|         Yes|               5|                    Other|         Sky 9|                      Other|More natural ingr...|            Caffeine|            Yes|                           Yes|        Online ads|Compact and porta...|                      Yes|    100-150|    Online retailers|          Studying/working ...|\n|     103006|       120036|           Rarely|For mental alertness|   To combat fatigue|         Yes|        Negative|          Not sure|          No|               5|          Health concerns|     Cola-Coka|               Availability|Wider range of fl...|            Vitamins|            Yes|                           Yes|    TV commercials|               Other|                      Yes|  Above 150|Gyms and fitness ...|          Social outings/pa...|\n|     103007|       120037|2-3 times a month|To stay awake dur...|Increased energy ...|          No|        Positive|          Not sure|          No|               4|          Health concerns|     Cola-Coka|           Brand reputation|               Other|             Guarana|            Yes|                            No|        Online ads|Innovative bottle...|                      Yes|    100-150|               Other|               Sports/exercise|\n|     103008|       120038|           Rarely|     Before exercise|   To combat fatigue|          No|         Neutral|           Healthy|         Yes|               4|     Unfamiliar with t...|      Gangster|           Brand reputation|Reduced sugar con...|               Sugar|            Yes|                      Not Sure|        Online ads|Compact and porta...|                      Yes|      50-99|Gyms and fitness ...|          Social outings/pa...|\n|     103009|       120039|      Once a week|To stay awake dur...|To enhance sports...|          No|         Neutral|         Effective|         Yes|               3|     Not available loc...|      Gangster|               Availability|Reduced sugar con...|               Sugar|             No|                           Yes|             Other|Innovative bottle...|                       No|    100-150|               Other|               Sports/exercise|\n|     103010|       120040|      Once a week|For mental alertness|   To combat fatigue|         Yes|         Neutral|           Healthy|          No|               4|     Not interested in...|         Sky 9|              Effectiveness|               Other|            Caffeine|             No|                           Yes|             Other|               Other|                 Not Sure|      50-99|Gyms and fitness ...|          Social outings/pa...|\n|     103011|       120041| 2-3 times a week|     Before exercise|   To combat fatigue|          No|        Negative|           Healthy|         Yes|               5|     Not interested in...|         CodeX|                      Other|Reduced sugar con...|             Guarana|            Yes|                           Yes|        Online ads|Compact and porta...|                      Yes|      50-99|        Supermarkets|               Sports/exercise|\n|     103012|       120042|           Rarely|To stay awake dur...|   To combat fatigue|         Yes|         Neutral|         Dangerous|          No|               2|     Not available loc...|        Others|              Effectiveness|Reduced sugar con...|            Caffeine|            Yes|                           Yes|        Online ads|               Other|                      Yes|    100-150|    Online retailers|          Social outings/pa...|\n|     103013|       120043| 2-3 times a week|     Before exercise|To enhance sports...|          No|         Neutral|           Healthy|         Yes|               4|     Not available loc...|      Gangster|       Taste/flavor pref...|More natural ingr...|            Caffeine|            Yes|                            No|        Online ads|Innovative bottle...|                       No|      50-99|Gyms and fitness ...|          Studying/working ...|\n|     103014|       120044| 2-3 times a week|For mental alertness|   To combat fatigue|          No|         Neutral|           Healthy|          No|               5|          Health concerns|        Others|           Brand reputation|Reduced sugar con...|            Vitamins|            Yes|                           Yes|             Other|Innovative bottle...|                       No|      50-99|    Online retailers|               Sports/exercise|\n|     103015|       120045| 2-3 times a week|To stay awake dur...|Increased energy ...|          No|        Positive|           Healthy|         Yes|               5|     Not interested in...|         Bepsi|               Availability|Healthier alterna...|               Sugar|            Yes|                           Yes|Outdoor billboards|Compact and porta...|                      Yes|  Above 150|        Supermarkets|          Social outings/pa...|\n|     103016|       120046|            Daily|     Before exercise|Increased energy ...|          No|         Neutral|         Effective|         Yes|               3|     Not available loc...|         Bepsi|           Brand reputation|               Other|            Caffeine|            Yes|                           Yes|        Online ads|Compact and porta...|                      Yes|  Above 150|        Supermarkets|          Studying/working ...|\n|     103017|       120047|           Rarely|     Before exercise|To boost performance|         Yes|         Neutral|         Effective|          No|               4|     Not interested in...|         CodeX|       Taste/flavor pref...|Wider range of fl...|               Sugar|             No|                           Yes|       Print media|Innovative bottle...|                 Not Sure|      50-99|        Supermarkets|          Studying/working ...|\n|     103018|       120048|      Once a week|To stay awake dur...|Increased energy ...|          No|        Negative|           Healthy|         Yes|               1|          Health concerns|         Sky 9|                      Other|Reduced sugar con...|             Guarana|            Yes|                           Yes|        Online ads|Compact and porta...|                      Yes|    100-150|    Online retailers|          Social outings/pa...|\n|     103019|       120049|            Daily|To stay awake dur...|               Other|          No|         Neutral|         Effective|          No|               4|     Not interested in...|         Bepsi|                      Other|More natural ingr...|            Caffeine|            Yes|                            No|        Online ads|Compact and porta...|                       No|      50-99|        Local stores|          Social outings/pa...|\n|     103020|       120050|            Daily|     Before exercise|   To combat fatigue|          No|         Neutral|         Effective|         Yes|               2|                    Other|        Others|              Effectiveness|Wider range of fl...|            Caffeine|             No|                           Yes|        Online ads|Compact and porta...|                       No|      50-99|               Other|          Social outings/pa...|\n+-----------+-------------+-----------------+--------------------+--------------------+------------+----------------+------------------+------------+----------------+-------------------------+--------------+---------------------------+--------------------+--------------------+---------------+------------------------------+------------------+--------------------+-------------------------+-----------+--------------------+------------------------------+\nonly showing top 20 rows\n\n"
     ]
    }
   ],
   "source": [
    "from pyspark.sql.functions import *"
   ]
  },
  {
   "cell_type": "code",
   "execution_count": 0,
   "metadata": {
    "application/vnd.databricks.v1+cell": {
     "cellMetadata": {
      "byteLimit": 2048000,
      "rowLimit": 10000
     },
     "inputWidgets": {},
     "nuid": "58c744db-2d76-46b0-9e2f-a04ba4ce8df0",
     "showTitle": false,
     "title": ""
    }
   },
   "outputs": [
    {
     "output_type": "stream",
     "name": "stdout",
     "output_type": "stream",
     "text": [
      "+--------------+-----+\n|Current_brands|Count|\n+--------------+-----+\n|     Cola-Coka| 2538|\n|         Bepsi| 2112|\n|      Gangster| 1854|\n|     Blue Bull| 1058|\n|         CodeX|  980|\n|         Sky 9|  979|\n|        Others|  479|\n+--------------+-----+\n\n"
     ]
    }
   ],
   "source": [
    "df3.groupBy(col(\"Current_brands\")).agg(count(\"*\").alias('Count')).orderBy(desc(\"Count\")).show()"
   ]
  },
  {
   "cell_type": "markdown",
   "metadata": {
    "application/vnd.databricks.v1+cell": {
     "cellMetadata": {},
     "inputWidgets": {},
     "nuid": "35822bb8-18fa-496c-be69-71d448a7e086",
     "showTitle": false,
     "title": ""
    }
   },
   "source": [
    "\n",
    "# Result;\n",
    "\n",
    "####  Cola-Coka and Bepsi are the current leader of the markets"
   ]
  },
  {
   "cell_type": "markdown",
   "metadata": {
    "application/vnd.databricks.v1+cell": {
     "cellMetadata": {},
     "inputWidgets": {},
     "nuid": "99050d95-8364-4dbc-9b45-5a902e6ee239",
     "showTitle": false,
     "title": ""
    }
   },
   "source": [
    "\n",
    "# Q2.\n",
    "\n",
    "#### What are the primary reasons consumers prefer those brands over ours?"
   ]
  },
  {
   "cell_type": "code",
   "execution_count": 0,
   "metadata": {
    "application/vnd.databricks.v1+cell": {
     "cellMetadata": {
      "byteLimit": 2048000,
      "rowLimit": 10000
     },
     "inputWidgets": {},
     "nuid": "c8e7295c-b44e-4bb7-bad1-07d24f96b06d",
     "showTitle": false,
     "title": ""
    }
   },
   "outputs": [
    {
     "output_type": "stream",
     "name": "stdout",
     "output_type": "stream",
     "text": [
      "Out[33]: ['Response_ID',\n 'Respondent_ID',\n 'Consume_frequency',\n 'Consume_time',\n 'Consume_reason',\n 'Heard_before',\n 'Brand_perception',\n 'General_perception',\n 'Tried_before',\n 'Taste_experience',\n 'Reasons_preventing_trying',\n 'Current_brands',\n 'Reasons_for_choosing_brands',\n 'Improvements_desired',\n 'Ingredients_expected',\n 'Health_concerns',\n 'Interest_in_natural_or_organic',\n 'Marketing_channels',\n 'Packaging_preference',\n 'Limited_edition_packaging',\n 'Price_range',\n 'Purchase_location',\n 'Typical_consumption_situations']"
     ]
    }
   ],
   "source": [
    "df3.columns"
   ]
  },
  {
   "cell_type": "code",
   "execution_count": 0,
   "metadata": {
    "application/vnd.databricks.v1+cell": {
     "cellMetadata": {
      "byteLimit": 2048000,
      "rowLimit": 10000
     },
     "inputWidgets": {},
     "nuid": "5368ca92-7010-4c9f-80fd-f5bf08dc76ba",
     "showTitle": false,
     "title": ""
    }
   },
   "outputs": [
    {
     "output_type": "stream",
     "name": "stdout",
     "output_type": "stream",
     "text": [
      "+-----------------------------+-----+\n|Consume_reason               |Count|\n+-----------------------------+-----+\n|Increased energy and focus   |3574 |\n|To combat fatigue            |2428 |\n|To enhance sports performance|1604 |\n|To boost performance         |1514 |\n|Other                        |880  |\n+-----------------------------+-----+\n\n"
     ]
    }
   ],
   "source": [
    "df3.groupBy(col(\"Consume_reason\")).agg(count(\"*\").alias('Count')).orderBy(desc(\"Count\")).show(truncate=False)"
   ]
  },
  {
   "cell_type": "markdown",
   "metadata": {
    "application/vnd.databricks.v1+cell": {
     "cellMetadata": {},
     "inputWidgets": {},
     "nuid": "bff83725-cb9b-414c-8f11-373e70bdbfda",
     "showTitle": false,
     "title": ""
    }
   },
   "source": [
    "\n",
    "# Result;\n",
    "\n",
    "####  Increased energy and focus is the current reason for preference."
   ]
  }
 ],
 "metadata": {
  "application/vnd.databricks.v1+notebook": {
   "dashboards": [],
   "language": "python",
   "notebookMetadata": {
    "mostRecentlyExecutedCommandWithImplicitDF": {
     "commandId": 4152835944386610,
     "dataframes": [
      "_sqldf"
     ]
    },
    "pythonIndentUnit": 4
   },
   "notebookName": "Competition Analysis",
   "widgets": {}
  }
 },
 "nbformat": 4,
 "nbformat_minor": 0
}
